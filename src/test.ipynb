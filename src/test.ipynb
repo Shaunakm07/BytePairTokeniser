{
 "cells": [
  {
   "cell_type": "code",
   "execution_count": 11,
   "metadata": {},
   "outputs": [],
   "source": [
    "import regex as re\n",
    "\n",
    "PAT = r\"\"\"'(?:[sdmt]|ll|ve|re)| ?\\p{L}+| ?\\p{N}+| ?[^\\s\\p{L}\\p{N}]+|\\s+(?!\\S)|\\s+\"\"\""
   ]
  },
  {
   "cell_type": "code",
   "execution_count": 12,
   "metadata": {},
   "outputs": [],
   "source": [
    "text = \"low low low low low lower lower widest widest widest newest newest newest newest newest newest\""
   ]
  },
  {
   "cell_type": "code",
   "execution_count": 13,
   "metadata": {},
   "outputs": [],
   "source": [
    "pre_tokenised = text.split(\" \")"
   ]
  },
  {
   "cell_type": "code",
   "execution_count": 65,
   "metadata": {},
   "outputs": [],
   "source": [
    "corpus = [\"<|endoftext|>\"]\n",
    "for i in range(256):\n",
    "    corpus.append(i)"
   ]
  },
  {
   "cell_type": "code",
   "execution_count": 66,
   "metadata": {},
   "outputs": [
    {
     "data": {
      "text/plain": [
       "257"
      ]
     },
     "execution_count": 66,
     "metadata": {},
     "output_type": "execute_result"
    }
   ],
   "source": [
    "len(corpus)"
   ]
  },
  {
   "cell_type": "code",
   "execution_count": 45,
   "metadata": {},
   "outputs": [],
   "source": [
    "pretokenised_dict = {}\n",
    "for word in pre_tokenised:\n",
    "    word = tuple([chr(c) for c in list(word.encode(\"utf-8\"))])\n",
    "    count = pretokenised_dict.get(word, 0)\n",
    "    count += 1\n",
    "    pretokenised_dict[word] = count"
   ]
  },
  {
   "cell_type": "code",
   "execution_count": 46,
   "metadata": {},
   "outputs": [],
   "source": [
    "vocab = []\n",
    "for i in range(6):\n",
    "    byte_pairs = {}\n",
    "    for k in pretokenised_dict.keys():\n",
    "        occurences = {}\n",
    "        for i in range(len(k) - 1):\n",
    "            pairs = (k[i], k[i + 1])\n",
    "            count = occurences.get(pairs, 0)\n",
    "            count += 1\n",
    "            occurences[pairs] = count\n",
    "        for j in occurences.keys():\n",
    "            count = occurences[j]\n",
    "            count = count * pretokenised_dict[k]\n",
    "            \n",
    "            pairs_count = byte_pairs.get(j, 0)\n",
    "            pairs_count += count\n",
    "            byte_pairs[j] = pairs_count\n",
    "\n",
    "    max_count = max([v for k,v in byte_pairs.items()])\n",
    "    max_pairs = []\n",
    "    for k,v in byte_pairs.items():\n",
    "        if v == max_count:\n",
    "            max_pairs.append(k)\n",
    "\n",
    "    heighest_lexical = max(max_pairs)\n",
    "    vocab.append(\"\".join(heighest_lexical))\n",
    "    \n",
    "    new_dict = {}\n",
    "    for k,v in pretokenised_dict.items():\n",
    "        k = list(k)\n",
    "        i = 0\n",
    "        while i < (len(k) - 1):\n",
    "            pairs = (k[i], k[i + 1])\n",
    "            if pairs == heighest_lexical:\n",
    "                k[i] = \"\".join(list(heighest_lexical))      \n",
    "                k.pop(i + 1)\n",
    "                i += 1\n",
    "            i += 1\n",
    "        new_dict[tuple(k)] = v\n",
    "\n",
    "    pretokenised_dict = new_dict"
   ]
  },
  {
   "cell_type": "code",
   "execution_count": 47,
   "metadata": {},
   "outputs": [
    {
     "data": {
      "text/plain": [
       "{('low',): 5,\n",
       " ('low', 'e', 'r'): 2,\n",
       " ('w', 'i', 'd', 'est'): 3,\n",
       " ('ne', 'west'): 6}"
      ]
     },
     "execution_count": 47,
     "metadata": {},
     "output_type": "execute_result"
    }
   ],
   "source": [
    "pretokenised_dict"
   ]
  },
  {
   "cell_type": "code",
   "execution_count": 58,
   "metadata": {},
   "outputs": [
    {
     "data": {
      "text/plain": [
       "('n', 'e')"
      ]
     },
     "execution_count": 58,
     "metadata": {},
     "output_type": "execute_result"
    }
   ],
   "source": [
    "heighest_lexical"
   ]
  },
  {
   "cell_type": "code",
   "execution_count": 52,
   "metadata": {},
   "outputs": [],
   "source": [
    "list = [chr(i) for i in range(256)]"
   ]
  },
  {
   "cell_type": "code",
   "execution_count": 64,
   "metadata": {},
   "outputs": [
    {
     "data": {
      "text/plain": [
       "False"
      ]
     },
     "execution_count": 64,
     "metadata": {},
     "output_type": "execute_result"
    }
   ],
   "source": [
    "\"is\" in [\"i\", \"s\"]"
   ]
  },
  {
   "cell_type": "code",
   "execution_count": null,
   "metadata": {},
   "outputs": [],
   "source": []
  }
 ],
 "metadata": {
  "kernelspec": {
   "display_name": "test_env",
   "language": "python",
   "name": "python3"
  },
  "language_info": {
   "codemirror_mode": {
    "name": "ipython",
    "version": 3
   },
   "file_extension": ".py",
   "mimetype": "text/x-python",
   "name": "python",
   "nbconvert_exporter": "python",
   "pygments_lexer": "ipython3",
   "version": "3.10.14"
  }
 },
 "nbformat": 4,
 "nbformat_minor": 2
}
